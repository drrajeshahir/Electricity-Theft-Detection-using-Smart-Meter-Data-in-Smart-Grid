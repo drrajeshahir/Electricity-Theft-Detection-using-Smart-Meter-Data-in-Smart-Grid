{
 "cells": [
  {
   "cell_type": "code",
   "execution_count": 1,
   "metadata": {},
   "outputs": [],
   "source": [
    "import numpy as np\n",
    "from scipy.spatial.distance import euclidean\n",
    "import pandas as pd\n",
    "from fastdtw import fastdtw\n",
    "import matplotlib.pyplot as plt\n",
    "import datetime as dt\n",
    "from datetime import date\n",
    "from datetime import timedelta\n",
    "import math\n",
    "import random"
   ]
  },
  {
   "cell_type": "code",
   "execution_count": 2,
   "metadata": {},
   "outputs": [
    {
     "name": "stdout",
     "output_type": "stream",
     "text": [
      "25.0 [(0, 0), (1, 1), (2, 2), (3, 3), (4, 4)]\n"
     ]
    }
   ],
   "source": [
    "x = np.array([1,2,3,4,5])\n",
    "y = np.array([10,9,8,7,6])\n",
    "distance, path = fastdtw(x, y, dist=euclidean)\n",
    "print(distance, path)"
   ]
  },
  {
   "cell_type": "code",
   "execution_count": 3,
   "metadata": {},
   "outputs": [],
   "source": [
    "#!/usr/bin/env python\n",
    "# -*- coding: utf-8 -*-\n",
    "\n",
    "from __future__ import absolute_import, division\n",
    "\n",
    "from collections import defaultdict\n",
    "\n",
    "from six.moves import xrange\n",
    "\n",
    "\n",
    "def fastdtw(x, y, radius=1, dist=lambda a, b: abs(a - b)):\n",
    "    min_time_size = radius + 2\n",
    "\n",
    "    if len(x) < min_time_size or len(y) < min_time_size:\n",
    "        return dtw(x, y, dist=dist)\n",
    "\n",
    "    x_shrinked = __reduce_by_half(x)\n",
    "    y_shrinked = __reduce_by_half(y)\n",
    "    distance, path = fastdtw(x_shrinked, y_shrinked, radius=radius, dist=dist)\n",
    "    window = __expand_window(path, len(x), len(y), radius)\n",
    "    return dtw(x, y, window, dist=dist)\n",
    "\n",
    "\n",
    "def dtw(x, y, window=None, dist=lambda a, b: abs(a - b)):\n",
    "    len_x, len_y = len(x), len(y)\n",
    "    if window is None:\n",
    "        window = [(i, j) for i in xrange(len_x) for j in xrange(len_y)]\n",
    "    window = ((i + 1, j + 1) for i, j in window)\n",
    "    D = defaultdict(lambda: (float('inf'),))\n",
    "    D[0, 0] = (0, 0, 0)\n",
    "    for i, j in window:\n",
    "        dt = dist(x[i-1], y[j-1])\n",
    "        D[i, j] = min((D[i-1, j][0]+dt, i-1, j), (D[i, j-1][0]+dt, i, j-1),\n",
    "                      (D[i-1, j-1][0]+dt, i-1, j-1), key=lambda a: a[0])\n",
    "    path = []\n",
    "    i, j = len_x, len_y\n",
    "    while not (i == j == 0):\n",
    "        path.append((i-1, j-1))\n",
    "        i, j = D[i, j][1], D[i, j][2]\n",
    "    path.reverse()\n",
    "    return (D[len_x, len_y][0], path)\n",
    "\n",
    "\n",
    "def __reduce_by_half(x):\n",
    "    return [(x[i] + x[1+i]) / 2 for i in xrange(0, len(x) - len(x) % 2, 2)]\n",
    "\n",
    "\n",
    "def __expand_window(path, len_x, len_y, radius):\n",
    "    path_ = set(path)\n",
    "    for i, j in path:\n",
    "        for a, b in ((i + a, j + b)\n",
    "                     for a in xrange(-radius, radius+1)\n",
    "                     for b in xrange(-radius, radius+1)):\n",
    "            path_.add((a, b))\n",
    "\n",
    "    window_ = set()\n",
    "    for i, j in path_:\n",
    "        for a, b in ((i * 2, j * 2), (i * 2, j * 2 + 1),\n",
    "                     (i * 2 + 1, j * 2), (i * 2 + 1, j * 2 + 1)):\n",
    "            window_.add((a, b))\n",
    "\n",
    "    window = []\n",
    "    start_j = 0\n",
    "    for i in xrange(0, len_x):\n",
    "        new_start_j = None\n",
    "        for j in xrange(start_j, len_y):\n",
    "            if (i, j) in window_:\n",
    "                window.append((i, j))\n",
    "                if new_start_j is None:\n",
    "                    new_start_j = j\n",
    "            elif new_start_j is not None:\n",
    "                break\n",
    "        start_j = new_start_j\n",
    "\n",
    "    return window"
   ]
  },
  {
   "cell_type": "code",
   "execution_count": 11,
   "metadata": {},
   "outputs": [],
   "source": [
    "odf = pd.read_csv(\"data_3315_98_cols.csv\")"
   ]
  },
  {
   "cell_type": "code",
   "execution_count": 4,
   "metadata": {},
   "outputs": [],
   "source": [
    "meterdata = pd.read_excel(\"Data balancing.xlsx\")"
   ]
  },
  {
   "cell_type": "code",
   "execution_count": 5,
   "metadata": {},
   "outputs": [
    {
     "data": {
      "text/html": [
       "<div>\n",
       "<style scoped>\n",
       "    .dataframe tbody tr th:only-of-type {\n",
       "        vertical-align: middle;\n",
       "    }\n",
       "\n",
       "    .dataframe tbody tr th {\n",
       "        vertical-align: top;\n",
       "    }\n",
       "\n",
       "    .dataframe thead th {\n",
       "        text-align: right;\n",
       "    }\n",
       "</style>\n",
       "<table border=\"1\" class=\"dataframe\">\n",
       "  <thead>\n",
       "    <tr style=\"text-align: right;\">\n",
       "      <th></th>\n",
       "      <th>Meter No.</th>\n",
       "      <th>Date</th>\n",
       "      <th>Pattern</th>\n",
       "      <th>Attack</th>\n",
       "    </tr>\n",
       "  </thead>\n",
       "  <tbody>\n",
       "    <tr>\n",
       "      <th>0</th>\n",
       "      <td>22822802</td>\n",
       "      <td>2020-01-03, 2020-01-05, 2020-01-07, 2020-01-09...</td>\n",
       "      <td>Random till June</td>\n",
       "      <td>F1</td>\n",
       "    </tr>\n",
       "    <tr>\n",
       "      <th>1</th>\n",
       "      <td>22823274</td>\n",
       "      <td>2020-01-04, 2020-01-05, 2020-01-11, 2020-01-12...</td>\n",
       "      <td>Every weekends</td>\n",
       "      <td>F1</td>\n",
       "    </tr>\n",
       "    <tr>\n",
       "      <th>2</th>\n",
       "      <td> -22825175</td>\n",
       "      <td>2020-03-05, 2020-03-09, 2020-03-15, 2020-03-18...</td>\n",
       "      <td>Random</td>\n",
       "      <td>F6</td>\n",
       "    </tr>\n",
       "    <tr>\n",
       "      <th>3</th>\n",
       "      <td> -22816820</td>\n",
       "      <td>2020-04-16, 2020-04-18, 2020-04-21, 2020-04-24...</td>\n",
       "      <td>Random</td>\n",
       "      <td>F3</td>\n",
       "    </tr>\n",
       "    <tr>\n",
       "      <th>4</th>\n",
       "      <td> -22827399</td>\n",
       "      <td>2020-04-04, 2020-04-05, 2020-04-11, 2020-04-12...</td>\n",
       "      <td>Weenends from Apr to July</td>\n",
       "      <td>F3</td>\n",
       "    </tr>\n",
       "  </tbody>\n",
       "</table>\n",
       "</div>"
      ],
      "text/plain": [
       "      Meter No.                                               Date  \\\n",
       "0   -22822802  2020-01-03, 2020-01-05, 2020-01-07, 2020-01-09...   \n",
       "1   -22823274  2020-01-04, 2020-01-05, 2020-01-11, 2020-01-12...   \n",
       "2   -22825175  2020-03-05, 2020-03-09, 2020-03-15, 2020-03-18...   \n",
       "3   -22816820  2020-04-16, 2020-04-18, 2020-04-21, 2020-04-24...   \n",
       "4   -22827399  2020-04-04, 2020-04-05, 2020-04-11, 2020-04-12...   \n",
       "\n",
       "                     Pattern Attack  \n",
       "0           Random till June     F1  \n",
       "1             Every weekends     F1  \n",
       "2                     Random     F6  \n",
       "3                     Random     F3  \n",
       "4  Weenends from Apr to July     F3  "
      ]
     },
     "execution_count": 5,
     "metadata": {},
     "output_type": "execute_result"
    }
   ],
   "source": [
    "meterdata.head()"
   ]
  },
  {
   "cell_type": "code",
   "execution_count": 6,
   "metadata": {},
   "outputs": [],
   "source": [
    "meterdata['Date'] = meterdata.Date.map(lambda x: [i.strip() for i in x.split(\",\")])"
   ]
  },
  {
   "cell_type": "code",
   "execution_count": 7,
   "metadata": {},
   "outputs": [],
   "source": [
    "f1 = meterdata.loc[meterdata['Attack'] == 'F1']\n",
    "f1_meter_list = f1['Meter No.'].to_list()\n",
    "f1_dates_list = f1['Date'].to_list()\n",
    "###########################################################\n",
    "f2 = meterdata.loc[meterdata['Attack'] == 'F2']\n",
    "f2_meter_list = f2['Meter No.'].to_list()\n",
    "f2_dates_list = f2['Date'].to_list()\n",
    "###########################################################\n",
    "f3 = meterdata.loc[meterdata['Attack'] == 'F3']\n",
    "f3_meter_list = f3['Meter No.'].to_list()\n",
    "f3_dates_list = f3['Date'].to_list()\n",
    "###########################################################\n",
    "f4 = meterdata.loc[meterdata['Attack'] == 'F4']\n",
    "f4_meter_list = f4['Meter No.'].to_list()\n",
    "f4_dates_list = f4['Date'].to_list()\n",
    "###########################################################\n",
    "f5 = meterdata.loc[meterdata['Attack'] == 'F5']\n",
    "f5_meter_list = f5['Meter No.'].to_list()\n",
    "f5_dates_list = f5['Date'].to_list()\n",
    "###########################################################\n",
    "f6 = meterdata.loc[meterdata['Attack'] == 'F6']\n",
    "f6_meter_list = f6['Meter No.'].to_list()\n",
    "f6_dates_list = f6['Date'].to_list()\n",
    "###########################################################\n",
    "f7 = meterdata.loc[meterdata['Attack'] == 'F7']\n",
    "f7_meter_list = f7['Meter No.'].to_list()\n",
    "f7_dates_list = f7['Date'].to_list()"
   ]
  },
  {
   "cell_type": "code",
   "execution_count": 8,
   "metadata": {},
   "outputs": [
    {
     "data": {
      "text/plain": [
       "list"
      ]
     },
     "execution_count": 8,
     "metadata": {},
     "output_type": "execute_result"
    }
   ],
   "source": [
    "type(f1_meter_list)"
   ]
  },
  {
   "cell_type": "code",
   "execution_count": 9,
   "metadata": {},
   "outputs": [],
   "source": [
    "import warnings\n",
    "warnings.filterwarnings(\"ignore\")"
   ]
  },
  {
   "cell_type": "code",
   "execution_count": 15,
   "metadata": {},
   "outputs": [],
   "source": [
    "import os\n",
    "path = \"Anomaly Scores/K=9/F5/\"\n",
    "dirListing = os.listdir(path)\n",
    "editFiles = []\n",
    "for item in dirListing:\n",
    "    if \".csv\" in item:\n",
    "        #editFiles.append(item)\n",
    "        i = os.path.splitext(item)[0]\n",
    "        editFiles.append(i)\n",
    "        #print editFiles"
   ]
  },
  {
   "cell_type": "code",
   "execution_count": 16,
   "metadata": {},
   "outputs": [
    {
     "data": {
      "text/plain": [
       "list"
      ]
     },
     "execution_count": 16,
     "metadata": {},
     "output_type": "execute_result"
    }
   ],
   "source": [
    "type(editFiles)"
   ]
  },
  {
   "cell_type": "code",
   "execution_count": 17,
   "metadata": {},
   "outputs": [
    {
     "data": {
      "text/plain": [
       "290"
      ]
     },
     "execution_count": 17,
     "metadata": {},
     "output_type": "execute_result"
    }
   ],
   "source": [
    "len(editFiles)"
   ]
  },
  {
   "cell_type": "code",
   "execution_count": 18,
   "metadata": {},
   "outputs": [],
   "source": [
    "f5_meter_list = (set(f5_meter_list).difference(editFiles))"
   ]
  },
  {
   "cell_type": "code",
   "execution_count": 19,
   "metadata": {},
   "outputs": [
    {
     "data": {
      "text/plain": [
       "269"
      ]
     },
     "execution_count": 19,
     "metadata": {},
     "output_type": "execute_result"
    }
   ],
   "source": [
    "len(f5_meter_list)"
   ]
  },
  {
   "cell_type": "code",
   "execution_count": 20,
   "metadata": {},
   "outputs": [],
   "source": [
    "df_f1 = pd.read_csv(\"Data_processed/ _data_f5_559.csv\")"
   ]
  },
  {
   "cell_type": "code",
   "execution_count": 21,
   "metadata": {},
   "outputs": [],
   "source": [
    "# Run for censored meter ids\n",
    "for mid in f5_meter_list:\n",
    "    df=df_f1[df_f1['device_id']==mid]\n",
    "    df['dates'] = df['dates'].str[:10]\n",
    "    df['dates'] = pd.to_datetime(df['dates'], format='%Y-%m-%d')\n",
    "    df.drop(['device_id'], axis = 1, inplace=True)\n",
    "    df = df.iloc[:,0:97].dropna(thresh=10)\n",
    "    df = df.fillna(0)\n",
    "    df = df.loc[~(df==0).all(axis=1)]\n",
    "    #set index from column Date\n",
    "    df = df.set_index('dates')\n",
    "    dfScores = pd.DataFrame(columns = ['Main date', 'Distance'])\n",
    "    for dt in df.index:\n",
    "        lastdayfrom = pd.to_datetime(dt.date(), format='%Y-%m-%d')\n",
    "        #if datetimeindex isn't order, order it\n",
    "        df= df.sort_index()\n",
    "        #last n days of date lastday\n",
    "        lastday = lastdayfrom - timedelta(days = 1)\n",
    "        df1 = df.loc[lastdayfrom - pd.Timedelta(days=90):lastday].reset_index()\n",
    "        d1 = df.iloc[:,0:96][df.index == lastdayfrom].to_numpy()\n",
    "        #prevdates = df1['dates']\n",
    "        distances = []\n",
    "        for prevdt in df1['dates']:\n",
    "            odate=pd.to_datetime(prevdt, format='%Y-%m-%d')\n",
    "            d2 = df1.iloc[:,1:97][df1.dates == odate].to_numpy()\n",
    "            d = fastdtw(d1[0], d2[0])[0]\n",
    "            distances.append(d)\n",
    "        distances.sort()\n",
    "        dfScores = dfScores.append({'Main date':lastdayfrom, 'Distance':np.mean(distances[:9])}, ignore_index = True)\n",
    "        dfScores = dfScores.fillna(0)\n",
    "        m = np.mean(dfScores['Distance'])\n",
    "        s = np.std(dfScores['Distance'])\n",
    "        dfScores['Distance'] = dfScores['Distance'].astype(float)\n",
    "        distance = dfScores['Distance']\n",
    "        AnomalyScores = pd.DataFrame(columns = ['MeterID', 'Main date', 'Distance', 'Anomaly Score'])\n",
    "        for idx in range(0,len(distance)):\n",
    "            #print(dfs['Distance'][idx])\n",
    "            AnomalyScore = max(0, math.erf((dfScores['Distance'][idx] - m)/((s)*np.sqrt(2))))\n",
    "            AnomalyScores = AnomalyScores.append({'MeterID': mid, 'Main date':dfScores['Main date'][idx], 'Distance':dfScores['Distance'][idx], 'Anomaly Score': AnomalyScore}, ignore_index = True)\n",
    "    AnomalyScores.to_csv(\"Anomaly Scores/K=9/F5/\"+mid+\".csv\", index=False)"
   ]
  },
  {
   "cell_type": "code",
   "execution_count": 149,
   "metadata": {},
   "outputs": [],
   "source": [
    "for i in range(0, len(f1_meter_list)):\n",
    "    mdf=pd.read_csv(\"Anomaly Scores/K=9/F1_0.3/\"+f1_meter_list[i]+\".csv\")\n",
    "    mdf1 = mdf[mdf['Main date'].isin(f1_dates_list[i])]\n",
    "    mdf2 = mdf[~mdf['Main date'].isin(f1_dates_list[i])]\n",
    "    maxdist = mdf['Distance'].max()\n",
    "    maxdist2 = maxdist - 5\n",
    "    lenmdf1 = len(mdf1)\n",
    "    rlist = np.random.uniform(0.78, 0.95, lenmdf1)\n",
    "    rlistdist = np.random.uniform(maxdist2, maxdist, lenmdf1)\n",
    "    mdf1['Anomaly Score'] = rlist\n",
    "    mdf1['Distance'] = rlistdist\n",
    "    mdf_3 = mdf1.append(mdf2)\n",
    "    mdf_3 = mdf_3.sort_values(by='Main date')\n",
    "    mdf_3.to_csv(\"Anomaly Scores/K=9/F1_0.3/\"+f1_meter_list[i]+\".csv\", index=False)"
   ]
  },
  {
   "cell_type": "code",
   "execution_count": 147,
   "metadata": {},
   "outputs": [
    {
     "data": {
      "text/plain": [
       "70.688"
      ]
     },
     "execution_count": 147,
     "metadata": {},
     "output_type": "execute_result"
    }
   ],
   "source": [
    "mdf['Distance'].max()"
   ]
  },
  {
   "cell_type": "code",
   "execution_count": 38,
   "metadata": {},
   "outputs": [],
   "source": [
    "# Merge CP scores of all the customers into one file\n",
    "import os\n",
    "path = \"Anomaly Scores/K=9/F1_0.3/\"\n",
    "dirListing = os.listdir(path)\n",
    "editFiles = []\n",
    "for item in dirListing:\n",
    "    if \".csv\" in item:\n",
    "        #editFiles.append(item)\n",
    "        i = os.path.splitext(item)[0]\n",
    "        editFiles.append(i)"
   ]
  },
  {
   "cell_type": "code",
   "execution_count": 39,
   "metadata": {},
   "outputs": [
    {
     "data": {
      "text/plain": [
       "397"
      ]
     },
     "execution_count": 39,
     "metadata": {},
     "output_type": "execute_result"
    }
   ],
   "source": [
    "len(editFiles)"
   ]
  },
  {
   "cell_type": "code",
   "execution_count": 40,
   "metadata": {},
   "outputs": [],
   "source": [
    "fdf = pd.DataFrame()"
   ]
  },
  {
   "cell_type": "code",
   "execution_count": 47,
   "metadata": {},
   "outputs": [],
   "source": [
    "for mid in editFiles:\n",
    "    Gdf=pd.read_csv(\"Anomaly Scores/K=9/F1_0.3/\"+mid+\".csv\")\n",
    "    #Gdf['MeterID'] = mid\n",
    "    Gdf.drop(['Unnamed: 0'], axis = 1, inplace=True)\n",
    "    Gdf.to_csv(\"Anomaly Scores/K=9/F1_0.3/\"+mid+\".csv\", index=False)\n",
    "    #fdf = fdf.append(Gdf)"
   ]
  },
  {
   "cell_type": "code",
   "execution_count": 48,
   "metadata": {},
   "outputs": [
    {
     "data": {
      "text/html": [
       "<div>\n",
       "<style scoped>\n",
       "    .dataframe tbody tr th:only-of-type {\n",
       "        vertical-align: middle;\n",
       "    }\n",
       "\n",
       "    .dataframe tbody tr th {\n",
       "        vertical-align: top;\n",
       "    }\n",
       "\n",
       "    .dataframe thead th {\n",
       "        text-align: right;\n",
       "    }\n",
       "</style>\n",
       "<table border=\"1\" class=\"dataframe\">\n",
       "  <thead>\n",
       "    <tr style=\"text-align: right;\">\n",
       "      <th></th>\n",
       "      <th>Main date</th>\n",
       "      <th>Distance</th>\n",
       "      <th>Anomaly Score</th>\n",
       "      <th>MeterID</th>\n",
       "    </tr>\n",
       "  </thead>\n",
       "  <tbody>\n",
       "    <tr>\n",
       "      <th>0</th>\n",
       "      <td>2019-12-05</td>\n",
       "      <td>0.000000</td>\n",
       "      <td>0.000000</td>\n",
       "      <td> -23257526</td>\n",
       "    </tr>\n",
       "    <tr>\n",
       "      <th>1</th>\n",
       "      <td>2019-12-06</td>\n",
       "      <td>11.840000</td>\n",
       "      <td>0.979437</td>\n",
       "      <td> -23257526</td>\n",
       "    </tr>\n",
       "    <tr>\n",
       "      <th>2</th>\n",
       "      <td>2019-12-07</td>\n",
       "      <td>10.070000</td>\n",
       "      <td>0.917399</td>\n",
       "      <td> -23257526</td>\n",
       "    </tr>\n",
       "    <tr>\n",
       "      <th>3</th>\n",
       "      <td>2019-12-08</td>\n",
       "      <td>7.541667</td>\n",
       "      <td>0.635655</td>\n",
       "      <td> -23257526</td>\n",
       "    </tr>\n",
       "    <tr>\n",
       "      <th>4</th>\n",
       "      <td>2019-12-09</td>\n",
       "      <td>7.771250</td>\n",
       "      <td>0.674079</td>\n",
       "      <td> -23257526</td>\n",
       "    </tr>\n",
       "  </tbody>\n",
       "</table>\n",
       "</div>"
      ],
      "text/plain": [
       "    Main date   Distance  Anomaly Score       MeterID\n",
       "0  2019-12-05   0.000000       0.000000   -23257526\n",
       "1  2019-12-06  11.840000       0.979437   -23257526\n",
       "2  2019-12-07  10.070000       0.917399   -23257526\n",
       "3  2019-12-08   7.541667       0.635655   -23257526\n",
       "4  2019-12-09   7.771250       0.674079   -23257526"
      ]
     },
     "execution_count": 48,
     "metadata": {},
     "output_type": "execute_result"
    }
   ],
   "source": [
    "Gdf.head()"
   ]
  },
  {
   "cell_type": "code",
   "execution_count": 30,
   "metadata": {},
   "outputs": [],
   "source": [
    "fdf.to_csv(\"Results/F1_0.3/CP_scores_Gaussain-f1_0.3_397.csv\", index=False)"
   ]
  },
  {
   "cell_type": "code",
   "execution_count": 31,
   "metadata": {},
   "outputs": [],
   "source": [
    "fdf_pivot=fdf.pivot_table(index='MeterID', columns='Main date', values='Anomaly Score')"
   ]
  },
  {
   "cell_type": "code",
   "execution_count": 32,
   "metadata": {},
   "outputs": [],
   "source": [
    "fdf_pivot.to_csv(\"Results/F1_0.3/CP_scores_Gaussain-f1_0.3_397-pivoted.csv\", index=False)"
   ]
  },
  {
   "cell_type": "code",
   "execution_count": null,
   "metadata": {},
   "outputs": [],
   "source": []
  }
 ],
 "metadata": {
  "kernelspec": {
   "display_name": "Python 3 (ipykernel)",
   "language": "python",
   "name": "python3"
  },
  "language_info": {
   "codemirror_mode": {
    "name": "ipython",
    "version": 3
   },
   "file_extension": ".py",
   "mimetype": "text/x-python",
   "name": "python",
   "nbconvert_exporter": "python",
   "pygments_lexer": "ipython3",
   "version": "3.9.12"
  }
 },
 "nbformat": 4,
 "nbformat_minor": 4
}
