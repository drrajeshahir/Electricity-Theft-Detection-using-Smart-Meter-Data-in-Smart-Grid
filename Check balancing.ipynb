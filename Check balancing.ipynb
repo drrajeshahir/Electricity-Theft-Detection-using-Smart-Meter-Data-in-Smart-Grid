{
 "cells": [
  {
   "cell_type": "code",
   "execution_count": 1,
   "metadata": {},
   "outputs": [],
   "source": [
    "import numpy as np\n",
    "import math\n",
    "import random\n",
    "import pandas as pd\n",
    "import datetime as dt"
   ]
  },
  {
   "cell_type": "code",
   "execution_count": 5,
   "metadata": {},
   "outputs": [],
   "source": [
    "df = pd.read_csv(\"KOL_indexed_selected.csv\", dayfirst=True)"
   ]
  },
  {
   "cell_type": "code",
   "execution_count": 6,
   "metadata": {},
   "outputs": [
    {
     "data": {
      "text/html": [
       "<div>\n",
       "<style scoped>\n",
       "    .dataframe tbody tr th:only-of-type {\n",
       "        vertical-align: middle;\n",
       "    }\n",
       "\n",
       "    .dataframe tbody tr th {\n",
       "        vertical-align: top;\n",
       "    }\n",
       "\n",
       "    .dataframe thead th {\n",
       "        text-align: right;\n",
       "    }\n",
       "</style>\n",
       "<table border=\"1\" class=\"dataframe\">\n",
       "  <thead>\n",
       "    <tr style=\"text-align: right;\">\n",
       "      <th></th>\n",
       "      <th>date</th>\n",
       "      <th>Device</th>\n",
       "      <th>KWH_F</th>\n",
       "    </tr>\n",
       "  </thead>\n",
       "  <tbody>\n",
       "    <tr>\n",
       "      <th>0</th>\n",
       "      <td>01-01-2019 00:00</td>\n",
       "      <td>KOL-22819318</td>\n",
       "      <td>0.219</td>\n",
       "    </tr>\n",
       "    <tr>\n",
       "      <th>1</th>\n",
       "      <td>01-12-2018 00:15</td>\n",
       "      <td>KOL-22819318</td>\n",
       "      <td>0.071</td>\n",
       "    </tr>\n",
       "    <tr>\n",
       "      <th>2</th>\n",
       "      <td>01-12-2018 00:30</td>\n",
       "      <td>KOL-22819318</td>\n",
       "      <td>0.070</td>\n",
       "    </tr>\n",
       "    <tr>\n",
       "      <th>3</th>\n",
       "      <td>01-12-2018 00:45</td>\n",
       "      <td>KOL-22819318</td>\n",
       "      <td>0.087</td>\n",
       "    </tr>\n",
       "    <tr>\n",
       "      <th>4</th>\n",
       "      <td>01-12-2018 01:00</td>\n",
       "      <td>KOL-22819318</td>\n",
       "      <td>0.106</td>\n",
       "    </tr>\n",
       "  </tbody>\n",
       "</table>\n",
       "</div>"
      ],
      "text/plain": [
       "               date        Device  KWH_F\n",
       "0  01-01-2019 00:00  KOL-22819318  0.219\n",
       "1  01-12-2018 00:15  KOL-22819318  0.071\n",
       "2  01-12-2018 00:30  KOL-22819318  0.070\n",
       "3  01-12-2018 00:45  KOL-22819318  0.087\n",
       "4  01-12-2018 01:00  KOL-22819318  0.106"
      ]
     },
     "execution_count": 6,
     "metadata": {},
     "output_type": "execute_result"
    }
   ],
   "source": [
    "df.head()"
   ]
  },
  {
   "cell_type": "code",
   "execution_count": 17,
   "metadata": {},
   "outputs": [],
   "source": [
    "df1 = pd.read_csv(\"KOL_indexed_balanced_1-2-3-4-5-6-7.csv\", dayfirst=True)"
   ]
  },
  {
   "cell_type": "code",
   "execution_count": 18,
   "metadata": {},
   "outputs": [
    {
     "data": {
      "text/html": [
       "<div>\n",
       "<style scoped>\n",
       "    .dataframe tbody tr th:only-of-type {\n",
       "        vertical-align: middle;\n",
       "    }\n",
       "\n",
       "    .dataframe tbody tr th {\n",
       "        vertical-align: top;\n",
       "    }\n",
       "\n",
       "    .dataframe thead th {\n",
       "        text-align: right;\n",
       "    }\n",
       "</style>\n",
       "<table border=\"1\" class=\"dataframe\">\n",
       "  <thead>\n",
       "    <tr style=\"text-align: right;\">\n",
       "      <th></th>\n",
       "      <th>date</th>\n",
       "      <th>Device</th>\n",
       "      <th>KWH_F</th>\n",
       "    </tr>\n",
       "  </thead>\n",
       "  <tbody>\n",
       "    <tr>\n",
       "      <th>0</th>\n",
       "      <td>01-01-2019 00:00</td>\n",
       "      <td>KOL-22819318</td>\n",
       "      <td>0.219</td>\n",
       "    </tr>\n",
       "    <tr>\n",
       "      <th>1</th>\n",
       "      <td>01-12-2018 00:15</td>\n",
       "      <td>KOL-22819318</td>\n",
       "      <td>0.071</td>\n",
       "    </tr>\n",
       "    <tr>\n",
       "      <th>2</th>\n",
       "      <td>01-12-2018 00:30</td>\n",
       "      <td>KOL-22819318</td>\n",
       "      <td>0.070</td>\n",
       "    </tr>\n",
       "    <tr>\n",
       "      <th>3</th>\n",
       "      <td>01-12-2018 00:45</td>\n",
       "      <td>KOL-22819318</td>\n",
       "      <td>0.087</td>\n",
       "    </tr>\n",
       "    <tr>\n",
       "      <th>4</th>\n",
       "      <td>01-12-2018 01:00</td>\n",
       "      <td>KOL-22819318</td>\n",
       "      <td>0.106</td>\n",
       "    </tr>\n",
       "  </tbody>\n",
       "</table>\n",
       "</div>"
      ],
      "text/plain": [
       "               date        Device  KWH_F\n",
       "0  01-01-2019 00:00  KOL-22819318  0.219\n",
       "1  01-12-2018 00:15  KOL-22819318  0.071\n",
       "2  01-12-2018 00:30  KOL-22819318  0.070\n",
       "3  01-12-2018 00:45  KOL-22819318  0.087\n",
       "4  01-12-2018 01:00  KOL-22819318  0.106"
      ]
     },
     "execution_count": 18,
     "metadata": {},
     "output_type": "execute_result"
    }
   ],
   "source": [
    "df1.head()"
   ]
  },
  {
   "cell_type": "code",
   "execution_count": 24,
   "metadata": {},
   "outputs": [
    {
     "data": {
      "text/plain": [
       "317065    0.11301\n",
       "317066    0.11301\n",
       "317067    0.11301\n",
       "317068    0.11301\n",
       "317069    0.11301\n",
       "           ...   \n",
       "317156    0.11301\n",
       "317157    0.11301\n",
       "317158    0.11301\n",
       "317159    0.11301\n",
       "317160    0.11301\n",
       "Name: KWH_F, Length: 96, dtype: float64"
      ]
     },
     "execution_count": 24,
     "metadata": {},
     "output_type": "execute_result"
    }
   ],
   "source": [
    "df1.loc[(df1['Device'].str.contains('KOL-22818763') & df1['date'].str.contains('12-11-2018')), 'KWH_F']"
   ]
  },
  {
   "cell_type": "code",
   "execution_count": 23,
   "metadata": {},
   "outputs": [
    {
     "data": {
      "text/plain": [
       "576457    0.053\n",
       "576458    0.050\n",
       "576459    0.051\n",
       "576460    0.093\n",
       "576461    0.057\n",
       "          ...  \n",
       "576548    0.220\n",
       "576549    0.057\n",
       "576550    0.060\n",
       "576551    0.060\n",
       "576552    0.058\n",
       "Name: KWH_F, Length: 96, dtype: float64"
      ]
     },
     "execution_count": 23,
     "metadata": {},
     "output_type": "execute_result"
    }
   ],
   "source": [
    "df.loc[(df['Device'].str.contains('KOL-22819152') & df['date'].str.contains('05-10-2018')), 'KWH_F']"
   ]
  },
  {
   "cell_type": "code",
   "execution_count": null,
   "metadata": {},
   "outputs": [],
   "source": []
  }
 ],
 "metadata": {
  "kernelspec": {
   "display_name": "Python 3",
   "language": "python",
   "name": "python3"
  },
  "language_info": {
   "codemirror_mode": {
    "name": "ipython",
    "version": 3
   },
   "file_extension": ".py",
   "mimetype": "text/x-python",
   "name": "python",
   "nbconvert_exporter": "python",
   "pygments_lexer": "ipython3",
   "version": "3.7.2"
  }
 },
 "nbformat": 4,
 "nbformat_minor": 4
}
